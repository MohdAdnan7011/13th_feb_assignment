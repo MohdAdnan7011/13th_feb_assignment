{
 "cells": [
  {
   "cell_type": "code",
   "execution_count": 1,
   "id": "97a301eb",
   "metadata": {},
   "outputs": [],
   "source": [
    "# Question No 1\n",
    "# Using the Exception class when creating a custom exception in Python\n",
    "# ensures that your custom exception is recognized as a standard exception."
   ]
  },
  {
   "cell_type": "code",
   "execution_count": 2,
   "id": "7c8812a8",
   "metadata": {},
   "outputs": [],
   "source": [
    "# Question No 2\n",
    "# try :\n",
    "#     10/0\n",
    "# except FileNotFoundError as e : \n",
    "#     logging.error(\"i am handling file not found  {} \".format(e) )\n",
    "# except AttributeError as e : \n",
    "#     logging.error(\"i am handling Attribute erro  {} \".format(e) )\n",
    "# except ZeroDivisionError as e :\n",
    "#     logging.error(\"i am trying to handle a zerodivision error {} \".format(e) )"
   ]
  },
  {
   "cell_type": "code",
   "execution_count": 3,
   "id": "b2896f87",
   "metadata": {},
   "outputs": [],
   "source": [
    "# Question No 3\n",
    "# ZeroDivisionError: Raised when dividing by zero.\n",
    "# OverflowError: Raised when the result of an operation exceeds the maximum limit."
   ]
  },
  {
   "cell_type": "code",
   "execution_count": 4,
   "id": "67eb2547",
   "metadata": {},
   "outputs": [],
   "source": [
    "# Question no 4\n",
    "# The LookupError class is a built-in exception class in Python that serves as\n",
    "# the base class for errors raised when a lookup operation fails.\n",
    "# This includes KeyError and IndexError, which handle errors related to invalid keys or indexes in collections\n",
    "\n",
    "# KeyError: Raised when a dictionary key is not found.\n",
    "# IndexError: Raised when a sequence index is out of range."
   ]
  },
  {
   "cell_type": "code",
   "execution_count": 5,
   "id": "c9bee1cc",
   "metadata": {},
   "outputs": [],
   "source": [
    "# Question No 5\n",
    "# ImportError\n",
    "# ImportError is raised when an import statement fails to import a module.\n",
    "# This can happen for various reasons such as the module not being available\n",
    "# in the Python path, syntax errors in the module, or circular imports.\n",
    "\n",
    "# ModuleNotFoundError is a subclass of ImportError that specifically\n",
    "# occurs when the module you are trying to import cannot be found."
   ]
  },
  {
   "cell_type": "code",
   "execution_count": 6,
   "id": "e75804fc",
   "metadata": {},
   "outputs": [],
   "source": [
    "# Question No 6\n",
    "# 1. Use always a specific exception.\n",
    "# 2. print always proper message.\n",
    "# 3. Always try to log your error"
   ]
  },
  {
   "cell_type": "code",
   "execution_count": null,
   "id": "ee99ec64",
   "metadata": {},
   "outputs": [],
   "source": []
  }
 ],
 "metadata": {
  "kernelspec": {
   "display_name": "Python 3 (ipykernel)",
   "language": "python",
   "name": "python3"
  },
  "language_info": {
   "codemirror_mode": {
    "name": "ipython",
    "version": 3
   },
   "file_extension": ".py",
   "mimetype": "text/x-python",
   "name": "python",
   "nbconvert_exporter": "python",
   "pygments_lexer": "ipython3",
   "version": "3.11.5"
  }
 },
 "nbformat": 4,
 "nbformat_minor": 5
}
